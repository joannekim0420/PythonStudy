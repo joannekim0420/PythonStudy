{
 "cells": [
  {
   "cell_type": "code",
   "execution_count": 5,
   "metadata": {},
   "outputs": [
    {
     "name": "stdout",
     "output_type": "stream",
     "text": [
      "torch.Size([163840])\n",
      "torch.Size([32, 10, 8, 64])\n"
     ]
    }
   ],
   "source": [
    "import torch \n",
    "import torch.nn as nn\n",
    "\n",
    "batch_size = 32\n",
    "seq_length = 10\n",
    "n_heads = 8\n",
    "single_head_dim = 64\n",
    "\n",
    "key = torch.rand([32*10*8*64])\n",
    "print(key.shape)\n",
    "key = key.view(batch_size, seq_length, n_heads, single_head_dim) # 32x10x8x64\n",
    "print(key.shape)"
   ]
  },
  {
   "cell_type": "code",
   "execution_count": 10,
   "metadata": {},
   "outputs": [
    {
     "name": "stdout",
     "output_type": "stream",
     "text": [
      "Linear(in_features=64, out_features=64, bias=False)\n",
      "torch.Size([32, 10, 8, 64])\n"
     ]
    }
   ],
   "source": [
    "key_matrix = nn.Linear(single_head_dim,single_head_dim, bias=False)\n",
    "print(key_matrix)\n",
    "\n",
    "k = key_matrix(key)\n",
    "# print(key_matrix(key))\n",
    "print(key_matrix(key).shape)"
   ]
  },
  {
   "cell_type": "code",
   "execution_count": 19,
   "metadata": {},
   "outputs": [
    {
     "name": "stdout",
     "output_type": "stream",
     "text": [
      "torch.Size([32, 10, 8, 64])\n",
      "torch.Size([32, 10, 64, 8])\n",
      "torch.Size([64, 10, 8, 32])\n"
     ]
    }
   ],
   "source": [
    "print(k.shape)\n",
    "k_adjusted = k.transpose(-1,2)\n",
    "print(k_adjusted.shape)\n",
    "k_adjusted = k.transpose(0,3)\n",
    "print(k_adjusted.shape)"
   ]
  },
  {
   "cell_type": "code",
   "execution_count": null,
   "metadata": {},
   "outputs": [],
   "source": []
  }
 ],
 "metadata": {
  "kernelspec": {
   "display_name": "base",
   "language": "python",
   "name": "python3"
  },
  "language_info": {
   "codemirror_mode": {
    "name": "ipython",
    "version": 3
   },
   "file_extension": ".py",
   "mimetype": "text/x-python",
   "name": "python",
   "nbconvert_exporter": "python",
   "pygments_lexer": "ipython3",
   "version": "3.9.7"
  },
  "orig_nbformat": 4,
  "vscode": {
   "interpreter": {
    "hash": "0cff2c490c7c712634a18e437eea945b8c6310a81db26841c2c758cafef31127"
   }
  }
 },
 "nbformat": 4,
 "nbformat_minor": 2
}
